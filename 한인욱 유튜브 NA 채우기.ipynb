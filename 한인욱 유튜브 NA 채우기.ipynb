{
 "cells": [
  {
   "cell_type": "code",
   "execution_count": 2,
   "metadata": {},
   "outputs": [],
   "source": [
    "import numpy as np\n",
    "import random as rd\n",
    "import math\n",
    "import matplotlib.pyplot as plt\n",
    "import pandas as pd\n",
    "%matplotlib inline"
   ]
  },
  {
   "cell_type": "code",
   "execution_count": 3,
   "metadata": {},
   "outputs": [],
   "source": [
    "x1 = list(range(1,32)) ; \n",
    "x = x1+x1+x1"
   ]
  },
  {
   "cell_type": "code",
   "execution_count": 4,
   "metadata": {},
   "outputs": [],
   "source": [
    "# 31일간의 먹방 데이터 1\n",
    "y1 = np.array([\n",
    "23960,\n",
    "23873,\n",
    "23796,\n",
    "23716,\n",
    "23640,\n",
    "23564,\n",
    "23480,\n",
    "23391,\n",
    "23315,\n",
    "23209,\n",
    "23135,\n",
    "23026,\n",
    "22895,\n",
    "22785,\n",
    "22678,\n",
    "22573,\n",
    "22564,\n",
    "22443,\n",
    "22308,\n",
    "22138,\n",
    "21920,\n",
    "21711,\n",
    "21472,\n",
    "21227,\n",
    "20706,\n",
    "20117,\n",
    "19334,\n",
    "18028,\n",
    "16430,\n",
    "14003,\n",
    "9240\n",
    "])"
   ]
  },
  {
   "cell_type": "code",
   "execution_count": 5,
   "metadata": {},
   "outputs": [],
   "source": [
    "# 31간의 먹방 데이터 2\n",
    "y2 = np.array([\n",
    "55995,\n",
    "55619,\n",
    "55155,\n",
    "54174,\n",
    "53416,\n",
    "52862,\n",
    "52323,\n",
    "51874,\n",
    "51411,\n",
    "50928,\n",
    "50373,\n",
    "49790,\n",
    "49283,\n",
    "48685,\n",
    "48187,\n",
    "47523,\n",
    "46893,\n",
    "46130,\n",
    "45457,\n",
    "45108,\n",
    "44314,\n",
    "43864,\n",
    "43122,\n",
    "42506,\n",
    "41889,\n",
    "41117,\n",
    "40036,\n",
    "38643,\n",
    "36880,\n",
    "34258,\n",
    "27852\n",
    "])"
   ]
  },
  {
   "cell_type": "code",
   "execution_count": 6,
   "metadata": {},
   "outputs": [],
   "source": [
    "# 31간의 먹방 데이터 3\n",
    "y3 = np.array([\n",
    "396265,\n",
    "394847,\n",
    "392904,\n",
    "391721,\n",
    "390426,\n",
    "388987,\n",
    "387687,\n",
    "386270,\n",
    "384442,\n",
    "381706,\n",
    "381056,\n",
    "379815,\n",
    "378287,\n",
    "376769,\n",
    "375054,\n",
    "372821,\n",
    "369378,\n",
    "364739,\n",
    "360902,\n",
    "356217,\n",
    "351476,\n",
    "346678,\n",
    "342387,\n",
    "336417,\n",
    "329441,\n",
    "322877,\n",
    "314451,\n",
    "304741,\n",
    "289657,\n",
    "258601,\n",
    "187659\n",
    "])"
   ]
  },
  {
   "cell_type": "code",
   "execution_count": 7,
   "metadata": {},
   "outputs": [],
   "source": [
    "y1 = y1[::-1]\n",
    "y2 = y2[::-1]\n",
    "y3 = y3[::-1]"
   ]
  },
  {
   "cell_type": "code",
   "execution_count": 8,
   "metadata": {},
   "outputs": [],
   "source": [
    "z1 = y1/y1[0]\n",
    "z2 = y2/y2[0]\n",
    "z3 = y3/y3[0]"
   ]
  },
  {
   "cell_type": "code",
   "execution_count": 9,
   "metadata": {},
   "outputs": [],
   "source": [
    "z = np.concatenate((z1,z2,z3))"
   ]
  },
  {
   "cell_type": "code",
   "execution_count": 10,
   "metadata": {
    "scrolled": true
   },
   "outputs": [
    {
     "data": {
      "text/plain": [
       "[<matplotlib.lines.Line2D at 0x1a53af80648>]"
      ]
     },
     "execution_count": 10,
     "metadata": {},
     "output_type": "execute_result"
    },
    {
     "data": {
      "image/png": "[encoded data removed]",
      "text/plain": [
       "<Figure size 432x288 with 1 Axes>"
      ]
     },
     "metadata": {
      "needs_background": "light"
     },
     "output_type": "display_data"
    }
   ],
   "source": [
    "plt.plot(x1,z1)"
   ]
  },
  {
   "cell_type": "code",
   "execution_count": 11,
   "metadata": {},
   "outputs": [
    {
     "data": {
      "text/plain": [
       "array([1.        , 1.51547619, 1.77813853, 1.95108225, 2.09242424,\n",
       "       2.1771645 , 2.24090909, 2.29729437, 2.32380952, 2.34967532,\n",
       "       2.37229437, 2.39588745, 2.41428571, 2.4288961 , 2.44199134,\n",
       "       2.44296537, 2.454329  , 2.46590909, 2.47781385, 2.49199134,\n",
       "       2.50378788, 2.51179654, 2.5232684 , 2.53149351, 2.54112554,\n",
       "       2.55021645, 2.55844156, 2.56666667, 2.57532468, 2.58365801,\n",
       "       2.59307359, 1.        , 1.23000144, 1.32414189, 1.38744076,\n",
       "       1.43745512, 1.47626741, 1.50398535, 1.52613816, 1.54825506,\n",
       "       1.57489588, 1.59105271, 1.61956053, 1.63209105, 1.65625449,\n",
       "       1.68364929, 1.70626885, 1.73010915, 1.74798937, 1.76946   ,\n",
       "       1.78766336, 1.80859543, 1.82852219, 1.84586385, 1.86248743,\n",
       "       1.87860836, 1.89796065, 1.9178515 , 1.94506678, 1.98028867,\n",
       "       1.99694815, 2.01044808, 1.        , 1.37803676, 1.54352842,\n",
       "       1.62390826, 1.67565105, 1.72055164, 1.75552998, 1.79270379,\n",
       "       1.82451681, 1.84738275, 1.8729504 , 1.89821431, 1.92317981,\n",
       "       1.94362647, 1.96834684, 1.98669395, 1.99859319, 2.00773211,\n",
       "       2.01582125, 2.02396368, 2.03057674, 2.03404047, 2.0486201 ,\n",
       "       2.05836118, 2.06591211, 2.07283957, 2.08050773, 2.08740854,\n",
       "       2.09371253, 2.10406642, 2.11162268])"
      ]
     },
     "execution_count": 11,
     "metadata": {},
     "output_type": "execute_result"
    }
   ],
   "source": [
    "z"
   ]
  },
  {
   "cell_type": "code",
   "execution_count": 12,
   "metadata": {},
   "outputs": [
    {
     "name": "stdout",
     "output_type": "stream",
     "text": [
      "[-0.04305107  0.48833177  1.0372932 ]\n"
     ]
    }
   ],
   "source": [
    "fitting=np.polyfit(np.log(x),z,2)\n",
    "print(fitting)"
   ]
  },
  {
   "cell_type": "code",
   "execution_count": 13,
   "metadata": {
    "scrolled": true
   },
   "outputs": [
    {
     "data": {
      "image/png": "[encoded data removed]",
      "text/plain": [
       "<Figure size 432x288 with 1 Axes>"
      ]
     },
     "metadata": {
      "needs_background": "light"
     },
     "output_type": "display_data"
    },
    {
     "data": {
      "text/plain": [
       "array([1.0372932 , 1.35509497, 1.52182004, 1.63152872, 1.7117181 ,\n",
       "       1.77405504, 1.82452722, 1.86659443, 1.902426  , 1.93346628,\n",
       "       1.96072223, 1.98492201, 2.00660798, 2.02619425, 2.0440036 ,\n",
       "       2.06029211, 2.07526615, 2.08909422, 2.10191556, 2.11384643,\n",
       "       2.12498485, 2.13541413, 2.14520564, 2.15442094, 2.16311346,\n",
       "       2.17132985, 2.17911108, 2.18649325, 2.1935084 , 2.200185  ,\n",
       "       2.20654851, 1.0372932 , 1.35509497, 1.52182004, 1.63152872,\n",
       "       1.7117181 , 1.77405504, 1.82452722, 1.86659443, 1.902426  ,\n",
       "       1.93346628, 1.96072223, 1.98492201, 2.00660798, 2.02619425,\n",
       "       2.0440036 , 2.06029211, 2.07526615, 2.08909422, 2.10191556,\n",
       "       2.11384643, 2.12498485, 2.13541413, 2.14520564, 2.15442094,\n",
       "       2.16311346, 2.17132985, 2.17911108, 2.18649325, 2.1935084 ,\n",
       "       2.200185  , 2.20654851, 1.0372932 , 1.35509497, 1.52182004,\n",
       "       1.63152872, 1.7117181 , 1.77405504, 1.82452722, 1.86659443,\n",
       "       1.902426  , 1.93346628, 1.96072223, 1.98492201, 2.00660798,\n",
       "       2.02619425, 2.0440036 , 2.06029211, 2.07526615, 2.08909422,\n",
       "       2.10191556, 2.11384643, 2.12498485, 2.13541413, 2.14520564,\n",
       "       2.15442094, 2.16311346, 2.17132985, 2.17911108, 2.18649325,\n",
       "       2.1935084 , 2.200185  , 2.20654851])"
      ]
     },
     "execution_count": 13,
     "metadata": {},
     "output_type": "execute_result"
    }
   ],
   "source": [
    "# printing result is [0.97735663 0.09426108]\n",
    "# A=0.97735663, B=0.09426108\n",
    "num = len(x)\n",
    "A=fitting[0]\n",
    "B=fitting[1]\n",
    "C=fitting[2]\n",
    "logfit=np.zeros(num)\n",
    "\n",
    "for i in range(num):\n",
    "    logfit[i]=A * (math.log(x[i]))**2 + B * math.log(x[i]) + C\n",
    "\n",
    "plt.scatter(x, z, c='red', s=40)\n",
    "plt.plot(x[0:31], logfit[0:31])\n",
    "plt.show( )\n",
    "logfit"
   ]
  },
  {
   "cell_type": "code",
   "execution_count": 14,
   "metadata": {},
   "outputs": [
    {
     "data": {
      "text/plain": [
       "array([1.0372932 , 1.35509497, 1.52182004, 1.63152872, 1.7117181 ,\n",
       "       1.77405504, 1.82452722, 1.86659443, 1.902426  , 1.93346628,\n",
       "       1.96072223, 1.98492201, 2.00660798, 2.02619425, 2.0440036 ,\n",
       "       2.06029211, 2.07526615, 2.08909422, 2.10191556, 2.11384643,\n",
       "       2.12498485, 2.13541413, 2.14520564, 2.15442094, 2.16311346,\n",
       "       2.17132985, 2.17911108, 2.18649325, 2.1935084 , 2.200185  ,\n",
       "       2.20654851, 1.0372932 , 1.35509497, 1.52182004, 1.63152872,\n",
       "       1.7117181 , 1.77405504, 1.82452722, 1.86659443, 1.902426  ,\n",
       "       1.93346628, 1.96072223, 1.98492201, 2.00660798, 2.02619425,\n",
       "       2.0440036 , 2.06029211, 2.07526615, 2.08909422, 2.10191556,\n",
       "       2.11384643, 2.12498485, 2.13541413, 2.14520564, 2.15442094,\n",
       "       2.16311346, 2.17132985, 2.17911108, 2.18649325, 2.1935084 ,\n",
       "       2.200185  , 2.20654851, 1.0372932 , 1.35509497, 1.52182004,\n",
       "       1.63152872, 1.7117181 , 1.77405504, 1.82452722, 1.86659443,\n",
       "       1.902426  , 1.93346628, 1.96072223, 1.98492201, 2.00660798,\n",
       "       2.02619425, 2.0440036 , 2.06029211, 2.07526615, 2.08909422,\n",
       "       2.10191556, 2.11384643, 2.12498485, 2.13541413, 2.14520564,\n",
       "       2.15442094, 2.16311346, 2.17132985, 2.17911108, 2.18649325,\n",
       "       2.1935084 , 2.200185  , 2.20654851])"
      ]
     },
     "execution_count": 14,
     "metadata": {},
     "output_type": "execute_result"
    }
   ],
   "source": [
    "logfit"
   ]
  },
  {
   "cell_type": "code",
   "execution_count": 15,
   "metadata": {
    "scrolled": false
   },
   "outputs": [
    {
     "data": {
      "text/plain": [
       "array([0.42866101, 0.55999247, 0.62889154, 0.67422861, 0.70736684,\n",
       "       0.73312756, 0.75398517, 0.77136943, 0.78617681, 0.79900419,\n",
       "       0.8102677 , 0.82026825, 0.82922997, 0.83732399, 0.84468369,\n",
       "       0.85141492, 0.85760293, 0.86331738, 0.86861579, 0.87354622,\n",
       "       0.87814917, 0.88245906, 0.8865054 , 0.89031362, 0.8939058 ,\n",
       "       0.89730122, 0.90051681, 0.90356749, 0.9064665 , 0.9092256 ,\n",
       "       0.91185532])"
      ]
     },
     "execution_count": 15,
     "metadata": {},
     "output_type": "execute_result"
    }
   ],
   "source": [
    "# 1년동안의 값을 총 조회수라고 볼 수 있을것이다. \n",
    "# 이를 이용하여, 비율을 계산. 그 후 그 값을 비율대로 곱해서 채워넣는다.\n",
    "# 인기란것은... 누적일까?\n",
    "impute = logfit[0:31] / (A*(math.log(365))**2+B*math.log(365)+C) ; impute # 30일간의 값"
   ]
  },
  {
   "cell_type": "code",
   "execution_count": 16,
   "metadata": {
    "scrolled": false
   },
   "outputs": [
    {
     "data": {
      "text/plain": [
       "array([0.42866101, 0.13133146, 0.06889907, 0.04533707, 0.03313823,\n",
       "       0.02576072, 0.02085761, 0.01738426, 0.01480738, 0.01282738,\n",
       "       0.01126351, 0.01000055, 0.00896172, 0.00809402, 0.0073597 ,\n",
       "       0.00673122, 0.00618802, 0.00571444, 0.00529841, 0.00493043,\n",
       "       0.00460295, 0.0043099 , 0.00404634, 0.00380822, 0.00359218,\n",
       "       0.00339542, 0.00321559, 0.00305068, 0.00289901, 0.0027591 ,\n",
       "       0.00262972])"
      ]
     },
     "execution_count": 16,
     "metadata": {},
     "output_type": "execute_result"
    }
   ],
   "source": [
    "pop = np.concatenate((impute[0:1],impute[1:31]- impute[0:30])) ; pop"
   ]
  },
  {
   "cell_type": "code",
   "execution_count": 95,
   "metadata": {},
   "outputs": [],
   "source": [
    "views= 3777200 * pop"
   ]
  },
  {
   "cell_type": "code",
   "execution_count": 96,
   "metadata": {},
   "outputs": [],
   "source": [
    "K = pd.DataFrame(views)"
   ]
  },
  {
   "cell_type": "code",
   "execution_count": 97,
   "metadata": {},
   "outputs": [],
   "source": [
    "pd.set_option('float_format', '{:f}'.format)"
   ]
  },
  {
   "cell_type": "code",
   "execution_count": 98,
   "metadata": {
    "scrolled": true
   },
   "outputs": [
    {
     "data": {
      "text/html": [
       "<div>\n",
       "<style scoped>\n",
       "    .dataframe tbody tr th:only-of-type {\n",
       "        vertical-align: middle;\n",
       "    }\n",
       "\n",
       "    .dataframe tbody tr th {\n",
       "        vertical-align: top;\n",
       "    }\n",
       "\n",
       "    .dataframe thead th {\n",
       "        text-align: right;\n",
       "    }\n",
       "</style>\n",
       "<table border=\"1\" class=\"dataframe\">\n",
       "  <thead>\n",
       "    <tr style=\"text-align: right;\">\n",
       "      <th></th>\n",
       "      <th>0</th>\n",
       "    </tr>\n",
       "  </thead>\n",
       "  <tbody>\n",
       "    <tr>\n",
       "      <th>0</th>\n",
       "      <td>1619138.370352</td>\n",
       "    </tr>\n",
       "    <tr>\n",
       "      <th>1</th>\n",
       "      <td>496065.194479</td>\n",
       "    </tr>\n",
       "    <tr>\n",
       "      <th>2</th>\n",
       "      <td>260245.567142</td>\n",
       "    </tr>\n",
       "    <tr>\n",
       "      <th>3</th>\n",
       "      <td>171247.173538</td>\n",
       "    </tr>\n",
       "    <tr>\n",
       "      <th>4</th>\n",
       "      <td>125169.722206</td>\n",
       "    </tr>\n",
       "    <tr>\n",
       "      <th>5</th>\n",
       "      <td>97303.380884</td>\n",
       "    </tr>\n",
       "    <tr>\n",
       "      <th>6</th>\n",
       "      <td>78783.368701</td>\n",
       "    </tr>\n",
       "    <tr>\n",
       "      <th>7</th>\n",
       "      <td>65663.815090</td>\n",
       "    </tr>\n",
       "    <tr>\n",
       "      <th>8</th>\n",
       "      <td>55930.444269</td>\n",
       "    </tr>\n",
       "    <tr>\n",
       "      <th>9</th>\n",
       "      <td>48451.590904</td>\n",
       "    </tr>\n",
       "    <tr>\n",
       "      <th>10</th>\n",
       "      <td>42544.539433</td>\n",
       "    </tr>\n",
       "    <tr>\n",
       "      <th>11</th>\n",
       "      <td>37774.064434</td>\n",
       "    </tr>\n",
       "    <tr>\n",
       "      <th>12</th>\n",
       "      <td>33850.214617</td>\n",
       "    </tr>\n",
       "    <tr>\n",
       "      <th>13</th>\n",
       "      <td>30572.729732</td>\n",
       "    </tr>\n",
       "    <tr>\n",
       "      <th>14</th>\n",
       "      <td>27799.073432</td>\n",
       "    </tr>\n",
       "    <tr>\n",
       "      <th>15</th>\n",
       "      <td>25425.176263</td>\n",
       "    </tr>\n",
       "    <tr>\n",
       "      <th>16</th>\n",
       "      <td>23373.373870</td>\n",
       "    </tr>\n",
       "    <tr>\n",
       "      <th>17</th>\n",
       "      <td>21584.596094</td>\n",
       "    </tr>\n",
       "    <tr>\n",
       "      <th>18</th>\n",
       "      <td>20013.161062</td>\n",
       "    </tr>\n",
       "    <tr>\n",
       "      <th>19</th>\n",
       "      <td>18623.217113</td>\n",
       "    </tr>\n",
       "    <tr>\n",
       "      <th>20</th>\n",
       "      <td>17386.256434</td>\n",
       "    </tr>\n",
       "    <tr>\n",
       "      <th>21</th>\n",
       "      <td>16279.343064</td>\n",
       "    </tr>\n",
       "    <tr>\n",
       "      <th>22</th>\n",
       "      <td>15283.827560</td>\n",
       "    </tr>\n",
       "    <tr>\n",
       "      <th>23</th>\n",
       "      <td>14384.399790</td>\n",
       "    </tr>\n",
       "    <tr>\n",
       "      <th>24</th>\n",
       "      <td>13568.380807</td>\n",
       "    </tr>\n",
       "    <tr>\n",
       "      <th>25</th>\n",
       "      <td>12825.186523</td>\n",
       "    </tr>\n",
       "    <tr>\n",
       "      <th>26</th>\n",
       "      <td>12145.916625</td>\n",
       "    </tr>\n",
       "    <tr>\n",
       "      <th>27</th>\n",
       "      <td>11523.036042</td>\n",
       "    </tr>\n",
       "    <tr>\n",
       "      <th>28</th>\n",
       "      <td>10950.125614</td>\n",
       "    </tr>\n",
       "    <tr>\n",
       "      <th>29</th>\n",
       "      <td>10421.685136</td>\n",
       "    </tr>\n",
       "    <tr>\n",
       "      <th>30</th>\n",
       "      <td>9932.976402</td>\n",
       "    </tr>\n",
       "  </tbody>\n",
       "</table>\n",
       "</div>"
      ],
      "text/plain": [
       "                0\n",
       "0  1619138.370352\n",
       "1   496065.194479\n",
       "2   260245.567142\n",
       "3   171247.173538\n",
       "4   125169.722206\n",
       "5    97303.380884\n",
       "6    78783.368701\n",
       "7    65663.815090\n",
       "8    55930.444269\n",
       "9    48451.590904\n",
       "10   42544.539433\n",
       "11   37774.064434\n",
       "12   33850.214617\n",
       "13   30572.729732\n",
       "14   27799.073432\n",
       "15   25425.176263\n",
       "16   23373.373870\n",
       "17   21584.596094\n",
       "18   20013.161062\n",
       "19   18623.217113\n",
       "20   17386.256434\n",
       "21   16279.343064\n",
       "22   15283.827560\n",
       "23   14384.399790\n",
       "24   13568.380807\n",
       "25   12825.186523\n",
       "26   12145.916625\n",
       "27   11523.036042\n",
       "28   10950.125614\n",
       "29   10421.685136\n",
       "30    9932.976402"
      ]
     },
     "execution_count": 98,
     "metadata": {},
     "output_type": "execute_result"
    }
   ],
   "source": [
    "K.iloc[:,0:]"
   ]
  },
  {
   "cell_type": "code",
   "execution_count": 101,
   "metadata": {},
   "outputs": [
    {
     "data": {
      "text/plain": [
       "[<matplotlib.lines.Line2D at 0x1afb7a06248>]"
      ]
     },
     "execution_count": 101,
     "metadata": {},
     "output_type": "execute_result"
    },
    {
     "data": {
      "image/png": "[encoded data removed]",
      "text/plain": [
       "<Figure size 432x288 with 1 Axes>"
      ]
     },
     "metadata": {
      "needs_background": "light"
     },
     "output_type": "display_data"
    }
   ],
   "source": [
    "plt.plot(K)"
   ]
  },
  {
   "cell_type": "code",
   "execution_count": null,
   "metadata": {},
   "outputs": [],
   "source": []
  }
 ],
 "metadata": {
  "kernelspec": {
   "display_name": "Python 3",
   "language": "python",
   "name": "python3"
  },
  "language_info": {
   "codemirror_mode": {
    "name": "ipython",
    "version": 3
   },
   "file_extension": ".py",
   "mimetype": "text/x-python",
   "name": "python",
   "nbconvert_exporter": "python",
   "pygments_lexer": "ipython3",
   "version": "3.7.4"
  },
  "toc": {
   "base_numbering": 1,
   "nav_menu": {},
   "number_sections": true,
   "sideBar": true,
   "skip_h1_title": false,
   "title_cell": "Table of Contents",
   "title_sidebar": "Contents",
   "toc_cell": false,
   "toc_position": {},
   "toc_section_display": true,
   "toc_window_display": false
  }
 },
 "nbformat": 4,
 "nbformat_minor": 4
}
